{
 "cells": [
  {
   "cell_type": "code",
   "execution_count": 1,
   "id": "1c81e418",
   "metadata": {},
   "outputs": [
    {
     "name": "stdout",
     "output_type": "stream",
     "text": [
      "Requirement already satisfied: jupyterlab~=2.2.9 in ./opt/anaconda3/lib/python3.9/site-packages (2.2.10)\n",
      "Requirement already satisfied: jupyterlab-git==0.24.0 in ./opt/anaconda3/lib/python3.9/site-packages (0.24.0)\n",
      "Requirement already satisfied: pexpect in ./opt/anaconda3/lib/python3.9/site-packages (from jupyterlab-git==0.24.0) (4.8.0)\n",
      "Requirement already satisfied: notebook in ./opt/anaconda3/lib/python3.9/site-packages (from jupyterlab-git==0.24.0) (6.4.12)\n",
      "Requirement already satisfied: packaging in ./opt/anaconda3/lib/python3.9/site-packages (from jupyterlab-git==0.24.0) (21.3)\n",
      "Requirement already satisfied: nbdime~=2.0 in ./opt/anaconda3/lib/python3.9/site-packages (from jupyterlab-git==0.24.0) (2.1.1)\n",
      "Requirement already satisfied: tornado!=6.0.0,!=6.0.1,!=6.0.2 in ./opt/anaconda3/lib/python3.9/site-packages (from jupyterlab~=2.2.9) (6.1)\n",
      "Requirement already satisfied: jupyterlab-server<2.0,>=1.1.5 in ./opt/anaconda3/lib/python3.9/site-packages (from jupyterlab~=2.2.9) (1.2.0)\n",
      "Requirement already satisfied: jinja2>=2.10 in ./opt/anaconda3/lib/python3.9/site-packages (from jupyterlab~=2.2.9) (2.11.3)\n",
      "Requirement already satisfied: MarkupSafe>=0.23 in ./opt/anaconda3/lib/python3.9/site-packages (from jinja2>=2.10->jupyterlab~=2.2.9) (2.0.1)\n",
      "Requirement already satisfied: json5 in ./opt/anaconda3/lib/python3.9/site-packages (from jupyterlab-server<2.0,>=1.1.5->jupyterlab~=2.2.9) (0.9.6)\n",
      "Requirement already satisfied: jsonschema>=3.0.1 in ./opt/anaconda3/lib/python3.9/site-packages (from jupyterlab-server<2.0,>=1.1.5->jupyterlab~=2.2.9) (4.16.0)\n",
      "Requirement already satisfied: requests in ./opt/anaconda3/lib/python3.9/site-packages (from jupyterlab-server<2.0,>=1.1.5->jupyterlab~=2.2.9) (2.28.1)\n",
      "Requirement already satisfied: pygments in ./opt/anaconda3/lib/python3.9/site-packages (from nbdime~=2.0->jupyterlab-git==0.24.0) (2.11.2)\n",
      "Requirement already satisfied: nbformat in ./opt/anaconda3/lib/python3.9/site-packages (from nbdime~=2.0->jupyterlab-git==0.24.0) (5.5.0)\n",
      "Requirement already satisfied: colorama in ./opt/anaconda3/lib/python3.9/site-packages (from nbdime~=2.0->jupyterlab-git==0.24.0) (0.4.5)\n",
      "Requirement already satisfied: GitPython!=2.1.4,!=2.1.5,!=2.1.6 in ./opt/anaconda3/lib/python3.9/site-packages (from nbdime~=2.0->jupyterlab-git==0.24.0) (3.1.42)\n",
      "Requirement already satisfied: six in ./opt/anaconda3/lib/python3.9/site-packages (from nbdime~=2.0->jupyterlab-git==0.24.0) (1.16.0)\n",
      "Requirement already satisfied: jupyter-core>=4.6.1 in ./opt/anaconda3/lib/python3.9/site-packages (from notebook->jupyterlab-git==0.24.0) (4.11.1)\n",
      "Requirement already satisfied: Send2Trash>=1.8.0 in ./opt/anaconda3/lib/python3.9/site-packages (from notebook->jupyterlab-git==0.24.0) (1.8.0)\n",
      "Requirement already satisfied: jupyter-client>=5.3.4 in ./opt/anaconda3/lib/python3.9/site-packages (from notebook->jupyterlab-git==0.24.0) (7.3.4)\n",
      "Requirement already satisfied: nest-asyncio>=1.5 in ./opt/anaconda3/lib/python3.9/site-packages (from notebook->jupyterlab-git==0.24.0) (1.5.5)\n",
      "Requirement already satisfied: pyzmq>=17 in ./opt/anaconda3/lib/python3.9/site-packages (from notebook->jupyterlab-git==0.24.0) (23.2.0)\n",
      "Requirement already satisfied: traitlets>=4.2.1 in ./opt/anaconda3/lib/python3.9/site-packages (from notebook->jupyterlab-git==0.24.0) (5.1.1)\n",
      "Requirement already satisfied: argon2-cffi in ./opt/anaconda3/lib/python3.9/site-packages (from notebook->jupyterlab-git==0.24.0) (21.3.0)\n",
      "Requirement already satisfied: nbconvert>=5 in ./opt/anaconda3/lib/python3.9/site-packages (from notebook->jupyterlab-git==0.24.0) (6.4.4)\n",
      "Requirement already satisfied: prometheus-client in ./opt/anaconda3/lib/python3.9/site-packages (from notebook->jupyterlab-git==0.24.0) (0.14.1)\n",
      "Requirement already satisfied: ipython-genutils in ./opt/anaconda3/lib/python3.9/site-packages (from notebook->jupyterlab-git==0.24.0) (0.2.0)\n",
      "Requirement already satisfied: terminado>=0.8.3 in ./opt/anaconda3/lib/python3.9/site-packages (from notebook->jupyterlab-git==0.24.0) (0.13.1)\n",
      "Requirement already satisfied: ipykernel in ./opt/anaconda3/lib/python3.9/site-packages (from notebook->jupyterlab-git==0.24.0) (6.15.2)\n",
      "Requirement already satisfied: pyparsing!=3.0.5,>=2.0.2 in ./opt/anaconda3/lib/python3.9/site-packages (from packaging->jupyterlab-git==0.24.0) (3.0.9)\n",
      "Requirement already satisfied: ptyprocess>=0.5 in ./opt/anaconda3/lib/python3.9/site-packages (from pexpect->jupyterlab-git==0.24.0) (0.7.0)\n",
      "Requirement already satisfied: gitdb<5,>=4.0.1 in ./opt/anaconda3/lib/python3.9/site-packages (from GitPython!=2.1.4,!=2.1.5,!=2.1.6->nbdime~=2.0->jupyterlab-git==0.24.0) (4.0.11)\n",
      "Requirement already satisfied: pyrsistent!=0.17.0,!=0.17.1,!=0.17.2,>=0.14.0 in ./opt/anaconda3/lib/python3.9/site-packages (from jsonschema>=3.0.1->jupyterlab-server<2.0,>=1.1.5->jupyterlab~=2.2.9) (0.18.0)\n",
      "Requirement already satisfied: attrs>=17.4.0 in ./opt/anaconda3/lib/python3.9/site-packages (from jsonschema>=3.0.1->jupyterlab-server<2.0,>=1.1.5->jupyterlab~=2.2.9) (21.4.0)\n",
      "Requirement already satisfied: python-dateutil>=2.8.2 in ./opt/anaconda3/lib/python3.9/site-packages (from jupyter-client>=5.3.4->notebook->jupyterlab-git==0.24.0) (2.8.2)\n",
      "Requirement already satisfied: entrypoints in ./opt/anaconda3/lib/python3.9/site-packages (from jupyter-client>=5.3.4->notebook->jupyterlab-git==0.24.0) (0.4)\n",
      "Requirement already satisfied: nbclient<0.6.0,>=0.5.0 in ./opt/anaconda3/lib/python3.9/site-packages (from nbconvert>=5->notebook->jupyterlab-git==0.24.0) (0.5.13)\n",
      "Requirement already satisfied: jupyterlab-pygments in ./opt/anaconda3/lib/python3.9/site-packages (from nbconvert>=5->notebook->jupyterlab-git==0.24.0) (0.1.2)\n",
      "Requirement already satisfied: pandocfilters>=1.4.1 in ./opt/anaconda3/lib/python3.9/site-packages (from nbconvert>=5->notebook->jupyterlab-git==0.24.0) (1.5.0)\n",
      "Requirement already satisfied: bleach in ./opt/anaconda3/lib/python3.9/site-packages (from nbconvert>=5->notebook->jupyterlab-git==0.24.0) (4.1.0)\n",
      "Requirement already satisfied: defusedxml in ./opt/anaconda3/lib/python3.9/site-packages (from nbconvert>=5->notebook->jupyterlab-git==0.24.0) (0.7.1)\n",
      "Requirement already satisfied: beautifulsoup4 in ./opt/anaconda3/lib/python3.9/site-packages (from nbconvert>=5->notebook->jupyterlab-git==0.24.0) (4.11.1)\n",
      "Requirement already satisfied: mistune<2,>=0.8.1 in ./opt/anaconda3/lib/python3.9/site-packages (from nbconvert>=5->notebook->jupyterlab-git==0.24.0) (0.8.4)\n",
      "Requirement already satisfied: testpath in ./opt/anaconda3/lib/python3.9/site-packages (from nbconvert>=5->notebook->jupyterlab-git==0.24.0) (0.6.0)\n",
      "Requirement already satisfied: fastjsonschema in ./opt/anaconda3/lib/python3.9/site-packages (from nbformat->nbdime~=2.0->jupyterlab-git==0.24.0) (2.16.2)\n",
      "Requirement already satisfied: argon2-cffi-bindings in ./opt/anaconda3/lib/python3.9/site-packages (from argon2-cffi->notebook->jupyterlab-git==0.24.0) (21.2.0)\n",
      "Requirement already satisfied: appnope in ./opt/anaconda3/lib/python3.9/site-packages (from ipykernel->notebook->jupyterlab-git==0.24.0) (0.1.2)\n",
      "Requirement already satisfied: matplotlib-inline>=0.1 in ./opt/anaconda3/lib/python3.9/site-packages (from ipykernel->notebook->jupyterlab-git==0.24.0) (0.1.6)\n",
      "Requirement already satisfied: ipython>=7.23.1 in ./opt/anaconda3/lib/python3.9/site-packages (from ipykernel->notebook->jupyterlab-git==0.24.0) (7.31.1)\n",
      "Requirement already satisfied: psutil in ./opt/anaconda3/lib/python3.9/site-packages (from ipykernel->notebook->jupyterlab-git==0.24.0) (5.9.0)\n",
      "Requirement already satisfied: debugpy>=1.0 in ./opt/anaconda3/lib/python3.9/site-packages (from ipykernel->notebook->jupyterlab-git==0.24.0) (1.5.1)\n",
      "Requirement already satisfied: idna<4,>=2.5 in ./opt/anaconda3/lib/python3.9/site-packages (from requests->jupyterlab-server<2.0,>=1.1.5->jupyterlab~=2.2.9) (3.3)\n",
      "Requirement already satisfied: urllib3<1.27,>=1.21.1 in ./opt/anaconda3/lib/python3.9/site-packages (from requests->jupyterlab-server<2.0,>=1.1.5->jupyterlab~=2.2.9) (1.26.11)\n",
      "Requirement already satisfied: certifi>=2017.4.17 in ./opt/anaconda3/lib/python3.9/site-packages (from requests->jupyterlab-server<2.0,>=1.1.5->jupyterlab~=2.2.9) (2022.9.24)\n",
      "Requirement already satisfied: charset-normalizer<3,>=2 in ./opt/anaconda3/lib/python3.9/site-packages (from requests->jupyterlab-server<2.0,>=1.1.5->jupyterlab~=2.2.9) (2.0.4)\n",
      "Requirement already satisfied: smmap<6,>=3.0.1 in ./opt/anaconda3/lib/python3.9/site-packages (from gitdb<5,>=4.0.1->GitPython!=2.1.4,!=2.1.5,!=2.1.6->nbdime~=2.0->jupyterlab-git==0.24.0) (5.0.1)\n",
      "Requirement already satisfied: jedi>=0.16 in ./opt/anaconda3/lib/python3.9/site-packages (from ipython>=7.23.1->ipykernel->notebook->jupyterlab-git==0.24.0) (0.18.1)\n",
      "Requirement already satisfied: setuptools>=18.5 in ./opt/anaconda3/lib/python3.9/site-packages (from ipython>=7.23.1->ipykernel->notebook->jupyterlab-git==0.24.0) (63.4.1)\n",
      "Requirement already satisfied: decorator in ./opt/anaconda3/lib/python3.9/site-packages (from ipython>=7.23.1->ipykernel->notebook->jupyterlab-git==0.24.0) (5.1.1)\n",
      "Requirement already satisfied: pickleshare in ./opt/anaconda3/lib/python3.9/site-packages (from ipython>=7.23.1->ipykernel->notebook->jupyterlab-git==0.24.0) (0.7.5)\n",
      "Requirement already satisfied: prompt-toolkit!=3.0.0,!=3.0.1,<3.1.0,>=2.0.0 in ./opt/anaconda3/lib/python3.9/site-packages (from ipython>=7.23.1->ipykernel->notebook->jupyterlab-git==0.24.0) (3.0.20)\n",
      "Requirement already satisfied: backcall in ./opt/anaconda3/lib/python3.9/site-packages (from ipython>=7.23.1->ipykernel->notebook->jupyterlab-git==0.24.0) (0.2.0)\n",
      "Requirement already satisfied: cffi>=1.0.1 in ./opt/anaconda3/lib/python3.9/site-packages (from argon2-cffi-bindings->argon2-cffi->notebook->jupyterlab-git==0.24.0) (1.15.1)\n",
      "Requirement already satisfied: soupsieve>1.2 in ./opt/anaconda3/lib/python3.9/site-packages (from beautifulsoup4->nbconvert>=5->notebook->jupyterlab-git==0.24.0) (2.3.1)\n",
      "Requirement already satisfied: webencodings in ./opt/anaconda3/lib/python3.9/site-packages (from bleach->nbconvert>=5->notebook->jupyterlab-git==0.24.0) (0.5.1)\n",
      "Requirement already satisfied: pycparser in ./opt/anaconda3/lib/python3.9/site-packages (from cffi>=1.0.1->argon2-cffi-bindings->argon2-cffi->notebook->jupyterlab-git==0.24.0) (2.21)\n",
      "Requirement already satisfied: parso<0.9.0,>=0.8.0 in ./opt/anaconda3/lib/python3.9/site-packages (from jedi>=0.16->ipython>=7.23.1->ipykernel->notebook->jupyterlab-git==0.24.0) (0.8.3)\n",
      "Requirement already satisfied: wcwidth in ./opt/anaconda3/lib/python3.9/site-packages (from prompt-toolkit!=3.0.0,!=3.0.1,<3.1.0,>=2.0.0->ipython>=7.23.1->ipykernel->notebook->jupyterlab-git==0.24.0) (0.2.5)\n",
      "Note: you may need to restart the kernel to use updated packages.\n"
     ]
    }
   ],
   "source": [
    "pip install jupyterlab~=2.2.9 jupyterlab-git==0.24.0"
   ]
  },
  {
   "cell_type": "code",
   "execution_count": 2,
   "id": "1d87c30b",
   "metadata": {},
   "outputs": [
    {
     "ename": "SyntaxError",
     "evalue": "invalid syntax (1013852127.py, line 1)",
     "output_type": "error",
     "traceback": [
      "\u001b[0;36m  File \u001b[0;32m\"/var/folders/mv/59_mf93d5y1gjvpv5cx52wl80000gn/T/ipykernel_93010/1013852127.py\"\u001b[0;36m, line \u001b[0;32m1\u001b[0m\n\u001b[0;31m    jupyter labextension install @jupyterlab/git\u001b[0m\n\u001b[0m            ^\u001b[0m\n\u001b[0;31mSyntaxError\u001b[0m\u001b[0;31m:\u001b[0m invalid syntax\n"
     ]
    }
   ],
   "source": [
    "# my code"
   ]
  },
  {
   "cell_type": "code",
   "execution_count": null,
   "id": "9c0f1dcb",
   "metadata": {},
   "outputs": [],
   "source": []
  }
 ],
 "metadata": {
  "kernelspec": {
   "display_name": "Python 3 (ipykernel)",
   "language": "python",
   "name": "python3"
  },
  "language_info": {
   "codemirror_mode": {
    "name": "ipython",
    "version": 3
   },
   "file_extension": ".py",
   "mimetype": "text/x-python",
   "name": "python",
   "nbconvert_exporter": "python",
   "pygments_lexer": "ipython3",
   "version": "3.9.13"
  }
 },
 "nbformat": 4,
 "nbformat_minor": 5
}
